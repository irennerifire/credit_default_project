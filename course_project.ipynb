{
 "cells": [
  {
   "cell_type": "code",
   "execution_count": 77,
   "metadata": {},
   "outputs": [],
   "source": [
    "import numpy as np\n",
    "import pandas as pd\n",
    "import pprint \n",
    "from matplotlib import pyplot as plt\n",
    "import seaborn as sns"
   ]
  },
  {
   "cell_type": "code",
   "execution_count": 78,
   "metadata": {},
   "outputs": [],
   "source": [
    "# input\n",
    "DATASET_PATH = 'D:/root/GeekBrains/ds2/course_project/course_project_train.csv'\n",
    "\n",
    "# output\n",
    "PREP_DATASET_PATH = 'D:/root/GeekBrains/ds2/course_project/course_train_mine.csv'"
   ]
  },
  {
   "cell_type": "code",
   "execution_count": 79,
   "metadata": {
    "scrolled": false
   },
   "outputs": [
    {
     "data": {
      "text/html": [
       "<div>\n",
       "<style scoped>\n",
       "    .dataframe tbody tr th:only-of-type {\n",
       "        vertical-align: middle;\n",
       "    }\n",
       "\n",
       "    .dataframe tbody tr th {\n",
       "        vertical-align: top;\n",
       "    }\n",
       "\n",
       "    .dataframe thead th {\n",
       "        text-align: right;\n",
       "    }\n",
       "</style>\n",
       "<table border=\"1\" class=\"dataframe\">\n",
       "  <thead>\n",
       "    <tr style=\"text-align: right;\">\n",
       "      <th></th>\n",
       "      <th>Home Ownership</th>\n",
       "      <th>Annual Income</th>\n",
       "      <th>Years in current job</th>\n",
       "      <th>Tax Liens</th>\n",
       "      <th>Number of Open Accounts</th>\n",
       "      <th>Years of Credit History</th>\n",
       "      <th>Maximum Open Credit</th>\n",
       "      <th>Number of Credit Problems</th>\n",
       "      <th>Months since last delinquent</th>\n",
       "      <th>Bankruptcies</th>\n",
       "      <th>Purpose</th>\n",
       "      <th>Term</th>\n",
       "      <th>Current Loan Amount</th>\n",
       "      <th>Current Credit Balance</th>\n",
       "      <th>Monthly Debt</th>\n",
       "      <th>Credit Score</th>\n",
       "      <th>Credit Default</th>\n",
       "    </tr>\n",
       "  </thead>\n",
       "  <tbody>\n",
       "    <tr>\n",
       "      <th>0</th>\n",
       "      <td>Own Home</td>\n",
       "      <td>482087.0</td>\n",
       "      <td>NaN</td>\n",
       "      <td>0.0</td>\n",
       "      <td>11.0</td>\n",
       "      <td>26.3</td>\n",
       "      <td>685960.0</td>\n",
       "      <td>1.0</td>\n",
       "      <td>NaN</td>\n",
       "      <td>1.0</td>\n",
       "      <td>debt consolidation</td>\n",
       "      <td>Short Term</td>\n",
       "      <td>99999999.0</td>\n",
       "      <td>47386.0</td>\n",
       "      <td>7914.0</td>\n",
       "      <td>749.0</td>\n",
       "      <td>0</td>\n",
       "    </tr>\n",
       "    <tr>\n",
       "      <th>1</th>\n",
       "      <td>Own Home</td>\n",
       "      <td>1025487.0</td>\n",
       "      <td>10+ years</td>\n",
       "      <td>0.0</td>\n",
       "      <td>15.0</td>\n",
       "      <td>15.3</td>\n",
       "      <td>1181730.0</td>\n",
       "      <td>0.0</td>\n",
       "      <td>NaN</td>\n",
       "      <td>0.0</td>\n",
       "      <td>debt consolidation</td>\n",
       "      <td>Long Term</td>\n",
       "      <td>264968.0</td>\n",
       "      <td>394972.0</td>\n",
       "      <td>18373.0</td>\n",
       "      <td>737.0</td>\n",
       "      <td>1</td>\n",
       "    </tr>\n",
       "    <tr>\n",
       "      <th>2</th>\n",
       "      <td>Home Mortgage</td>\n",
       "      <td>751412.0</td>\n",
       "      <td>8 years</td>\n",
       "      <td>0.0</td>\n",
       "      <td>11.0</td>\n",
       "      <td>35.0</td>\n",
       "      <td>1182434.0</td>\n",
       "      <td>0.0</td>\n",
       "      <td>NaN</td>\n",
       "      <td>0.0</td>\n",
       "      <td>debt consolidation</td>\n",
       "      <td>Short Term</td>\n",
       "      <td>99999999.0</td>\n",
       "      <td>308389.0</td>\n",
       "      <td>13651.0</td>\n",
       "      <td>742.0</td>\n",
       "      <td>0</td>\n",
       "    </tr>\n",
       "    <tr>\n",
       "      <th>3</th>\n",
       "      <td>Own Home</td>\n",
       "      <td>805068.0</td>\n",
       "      <td>6 years</td>\n",
       "      <td>0.0</td>\n",
       "      <td>8.0</td>\n",
       "      <td>22.5</td>\n",
       "      <td>147400.0</td>\n",
       "      <td>1.0</td>\n",
       "      <td>NaN</td>\n",
       "      <td>1.0</td>\n",
       "      <td>debt consolidation</td>\n",
       "      <td>Short Term</td>\n",
       "      <td>121396.0</td>\n",
       "      <td>95855.0</td>\n",
       "      <td>11338.0</td>\n",
       "      <td>694.0</td>\n",
       "      <td>0</td>\n",
       "    </tr>\n",
       "    <tr>\n",
       "      <th>4</th>\n",
       "      <td>Rent</td>\n",
       "      <td>776264.0</td>\n",
       "      <td>8 years</td>\n",
       "      <td>0.0</td>\n",
       "      <td>13.0</td>\n",
       "      <td>13.6</td>\n",
       "      <td>385836.0</td>\n",
       "      <td>1.0</td>\n",
       "      <td>NaN</td>\n",
       "      <td>0.0</td>\n",
       "      <td>debt consolidation</td>\n",
       "      <td>Short Term</td>\n",
       "      <td>125840.0</td>\n",
       "      <td>93309.0</td>\n",
       "      <td>7180.0</td>\n",
       "      <td>719.0</td>\n",
       "      <td>0</td>\n",
       "    </tr>\n",
       "  </tbody>\n",
       "</table>\n",
       "</div>"
      ],
      "text/plain": [
       "  Home Ownership  Annual Income Years in current job  Tax Liens  \\\n",
       "0       Own Home       482087.0                  NaN        0.0   \n",
       "1       Own Home      1025487.0            10+ years        0.0   \n",
       "2  Home Mortgage       751412.0              8 years        0.0   \n",
       "3       Own Home       805068.0              6 years        0.0   \n",
       "4           Rent       776264.0              8 years        0.0   \n",
       "\n",
       "   Number of Open Accounts  Years of Credit History  Maximum Open Credit  \\\n",
       "0                     11.0                     26.3             685960.0   \n",
       "1                     15.0                     15.3            1181730.0   \n",
       "2                     11.0                     35.0            1182434.0   \n",
       "3                      8.0                     22.5             147400.0   \n",
       "4                     13.0                     13.6             385836.0   \n",
       "\n",
       "   Number of Credit Problems  Months since last delinquent  Bankruptcies  \\\n",
       "0                        1.0                           NaN           1.0   \n",
       "1                        0.0                           NaN           0.0   \n",
       "2                        0.0                           NaN           0.0   \n",
       "3                        1.0                           NaN           1.0   \n",
       "4                        1.0                           NaN           0.0   \n",
       "\n",
       "              Purpose        Term  Current Loan Amount  \\\n",
       "0  debt consolidation  Short Term           99999999.0   \n",
       "1  debt consolidation   Long Term             264968.0   \n",
       "2  debt consolidation  Short Term           99999999.0   \n",
       "3  debt consolidation  Short Term             121396.0   \n",
       "4  debt consolidation  Short Term             125840.0   \n",
       "\n",
       "   Current Credit Balance  Monthly Debt  Credit Score  Credit Default  \n",
       "0                 47386.0        7914.0         749.0               0  \n",
       "1                394972.0       18373.0         737.0               1  \n",
       "2                308389.0       13651.0         742.0               0  \n",
       "3                 95855.0       11338.0         694.0               0  \n",
       "4                 93309.0        7180.0         719.0               0  "
      ]
     },
     "execution_count": 79,
     "metadata": {},
     "output_type": "execute_result"
    }
   ],
   "source": [
    "df = pd.read_csv(DATASET_PATH)\n",
    "df.head()"
   ]
  },
  {
   "cell_type": "raw",
   "metadata": {},
   "source": [
    "Описание датасета\n",
    "\n",
    "Home Ownership - домовладение\n",
    "Annual Income - годовой доход\n",
    "Years in current job - количество лет на текущем месте работы\n",
    "Tax Liens - налоговые обременения\n",
    "Number of Open Accounts - количество открытых счетов\n",
    "Years of Credit History - количество лет кредитной истории\n",
    "Maximum Open Credit - наибольший открытый кредит\n",
    "Number of Credit Problems - количество проблем с кредитом\n",
    "Months since last delinquent - количество месяцев с последней просрочки платежа\n",
    "Bankruptcies - банкротства\n",
    "Purpose - цель кредита\n",
    "Term - срок кредита\n",
    "Current Loan Amount - текущая сумма кредита\n",
    "Current Credit Balance - текущий кредитный баланс\n",
    "Monthly Debt - ежемесячный долг\n",
    "Credit Default - факт невыполнения кредитных обязательств (0 - погашен вовремя, 1 - просрочка)"
   ]
  },
  {
   "cell_type": "code",
   "execution_count": 80,
   "metadata": {},
   "outputs": [
    {
     "data": {
      "text/plain": [
       "(7500, 17)"
      ]
     },
     "execution_count": 80,
     "metadata": {},
     "output_type": "execute_result"
    }
   ],
   "source": [
    "df.shape"
   ]
  },
  {
   "cell_type": "code",
   "execution_count": 81,
   "metadata": {},
   "outputs": [
    {
     "name": "stdout",
     "output_type": "stream",
     "text": [
      "<class 'pandas.core.frame.DataFrame'>\n",
      "RangeIndex: 7500 entries, 0 to 7499\n",
      "Data columns (total 17 columns):\n",
      "Home Ownership                  7500 non-null object\n",
      "Annual Income                   5943 non-null float64\n",
      "Years in current job            7129 non-null object\n",
      "Tax Liens                       7500 non-null float64\n",
      "Number of Open Accounts         7500 non-null float64\n",
      "Years of Credit History         7500 non-null float64\n",
      "Maximum Open Credit             7500 non-null float64\n",
      "Number of Credit Problems       7500 non-null float64\n",
      "Months since last delinquent    3419 non-null float64\n",
      "Bankruptcies                    7486 non-null float64\n",
      "Purpose                         7500 non-null object\n",
      "Term                            7500 non-null object\n",
      "Current Loan Amount             7500 non-null float64\n",
      "Current Credit Balance          7500 non-null float64\n",
      "Monthly Debt                    7500 non-null float64\n",
      "Credit Score                    5943 non-null float64\n",
      "Credit Default                  7500 non-null int64\n",
      "dtypes: float64(12), int64(1), object(4)\n",
      "memory usage: 996.2+ KB\n"
     ]
    }
   ],
   "source": [
    "# Видим, что датасет содержит 17 колонок со свойствами объектов (всего 7500 объектов). \n",
    "# Из них 4 свойства типа object, осталные - численные. Нужно проверить объектные типы на содержимое + численные на действительную \n",
    "# принадлежность к численным. Проверить все на отсутствующие значения.\n",
    "\n",
    "df.info()"
   ]
  },
  {
   "cell_type": "code",
   "execution_count": 82,
   "metadata": {},
   "outputs": [
    {
     "data": {
      "text/html": [
       "<div>\n",
       "<style scoped>\n",
       "    .dataframe tbody tr th:only-of-type {\n",
       "        vertical-align: middle;\n",
       "    }\n",
       "\n",
       "    .dataframe tbody tr th {\n",
       "        vertical-align: top;\n",
       "    }\n",
       "\n",
       "    .dataframe thead th {\n",
       "        text-align: right;\n",
       "    }\n",
       "</style>\n",
       "<table border=\"1\" class=\"dataframe\">\n",
       "  <thead>\n",
       "    <tr style=\"text-align: right;\">\n",
       "      <th></th>\n",
       "      <th>Annual Income</th>\n",
       "      <th>Tax Liens</th>\n",
       "      <th>Number of Open Accounts</th>\n",
       "      <th>Years of Credit History</th>\n",
       "      <th>Maximum Open Credit</th>\n",
       "      <th>Number of Credit Problems</th>\n",
       "      <th>Months since last delinquent</th>\n",
       "      <th>Bankruptcies</th>\n",
       "      <th>Current Loan Amount</th>\n",
       "      <th>Current Credit Balance</th>\n",
       "      <th>Monthly Debt</th>\n",
       "      <th>Credit Score</th>\n",
       "      <th>Credit Default</th>\n",
       "    </tr>\n",
       "  </thead>\n",
       "  <tbody>\n",
       "    <tr>\n",
       "      <th>count</th>\n",
       "      <td>5.943000e+03</td>\n",
       "      <td>7500.000000</td>\n",
       "      <td>7500.000000</td>\n",
       "      <td>7500.000000</td>\n",
       "      <td>7.500000e+03</td>\n",
       "      <td>7500.000000</td>\n",
       "      <td>3419.000000</td>\n",
       "      <td>7486.000000</td>\n",
       "      <td>7.500000e+03</td>\n",
       "      <td>7.500000e+03</td>\n",
       "      <td>7500.000000</td>\n",
       "      <td>5943.000000</td>\n",
       "      <td>7500.000000</td>\n",
       "    </tr>\n",
       "    <tr>\n",
       "      <th>mean</th>\n",
       "      <td>1.366392e+06</td>\n",
       "      <td>0.030133</td>\n",
       "      <td>11.130933</td>\n",
       "      <td>18.317467</td>\n",
       "      <td>9.451537e+05</td>\n",
       "      <td>0.170000</td>\n",
       "      <td>34.692600</td>\n",
       "      <td>0.117152</td>\n",
       "      <td>1.187318e+07</td>\n",
       "      <td>2.898332e+05</td>\n",
       "      <td>18314.454133</td>\n",
       "      <td>1151.087498</td>\n",
       "      <td>0.281733</td>\n",
       "    </tr>\n",
       "    <tr>\n",
       "      <th>std</th>\n",
       "      <td>8.453392e+05</td>\n",
       "      <td>0.271604</td>\n",
       "      <td>4.908924</td>\n",
       "      <td>7.041946</td>\n",
       "      <td>1.602622e+07</td>\n",
       "      <td>0.498598</td>\n",
       "      <td>21.688806</td>\n",
       "      <td>0.347192</td>\n",
       "      <td>3.192612e+07</td>\n",
       "      <td>3.178714e+05</td>\n",
       "      <td>11926.764673</td>\n",
       "      <td>1604.451418</td>\n",
       "      <td>0.449874</td>\n",
       "    </tr>\n",
       "    <tr>\n",
       "      <th>min</th>\n",
       "      <td>1.645970e+05</td>\n",
       "      <td>0.000000</td>\n",
       "      <td>2.000000</td>\n",
       "      <td>4.000000</td>\n",
       "      <td>0.000000e+00</td>\n",
       "      <td>0.000000</td>\n",
       "      <td>0.000000</td>\n",
       "      <td>0.000000</td>\n",
       "      <td>1.124200e+04</td>\n",
       "      <td>0.000000e+00</td>\n",
       "      <td>0.000000</td>\n",
       "      <td>585.000000</td>\n",
       "      <td>0.000000</td>\n",
       "    </tr>\n",
       "    <tr>\n",
       "      <th>25%</th>\n",
       "      <td>8.443410e+05</td>\n",
       "      <td>0.000000</td>\n",
       "      <td>8.000000</td>\n",
       "      <td>13.500000</td>\n",
       "      <td>2.792295e+05</td>\n",
       "      <td>0.000000</td>\n",
       "      <td>16.000000</td>\n",
       "      <td>0.000000</td>\n",
       "      <td>1.801690e+05</td>\n",
       "      <td>1.142565e+05</td>\n",
       "      <td>10067.500000</td>\n",
       "      <td>711.000000</td>\n",
       "      <td>0.000000</td>\n",
       "    </tr>\n",
       "    <tr>\n",
       "      <th>50%</th>\n",
       "      <td>1.168386e+06</td>\n",
       "      <td>0.000000</td>\n",
       "      <td>10.000000</td>\n",
       "      <td>17.000000</td>\n",
       "      <td>4.781590e+05</td>\n",
       "      <td>0.000000</td>\n",
       "      <td>32.000000</td>\n",
       "      <td>0.000000</td>\n",
       "      <td>3.095730e+05</td>\n",
       "      <td>2.093230e+05</td>\n",
       "      <td>16076.500000</td>\n",
       "      <td>731.000000</td>\n",
       "      <td>0.000000</td>\n",
       "    </tr>\n",
       "    <tr>\n",
       "      <th>75%</th>\n",
       "      <td>1.640137e+06</td>\n",
       "      <td>0.000000</td>\n",
       "      <td>14.000000</td>\n",
       "      <td>21.800000</td>\n",
       "      <td>7.935015e+05</td>\n",
       "      <td>0.000000</td>\n",
       "      <td>50.000000</td>\n",
       "      <td>0.000000</td>\n",
       "      <td>5.198820e+05</td>\n",
       "      <td>3.604062e+05</td>\n",
       "      <td>23818.000000</td>\n",
       "      <td>743.000000</td>\n",
       "      <td>1.000000</td>\n",
       "    </tr>\n",
       "    <tr>\n",
       "      <th>max</th>\n",
       "      <td>1.014934e+07</td>\n",
       "      <td>7.000000</td>\n",
       "      <td>43.000000</td>\n",
       "      <td>57.700000</td>\n",
       "      <td>1.304726e+09</td>\n",
       "      <td>7.000000</td>\n",
       "      <td>118.000000</td>\n",
       "      <td>4.000000</td>\n",
       "      <td>1.000000e+08</td>\n",
       "      <td>6.506797e+06</td>\n",
       "      <td>136679.000000</td>\n",
       "      <td>7510.000000</td>\n",
       "      <td>1.000000</td>\n",
       "    </tr>\n",
       "  </tbody>\n",
       "</table>\n",
       "</div>"
      ],
      "text/plain": [
       "       Annual Income    Tax Liens  Number of Open Accounts  \\\n",
       "count   5.943000e+03  7500.000000              7500.000000   \n",
       "mean    1.366392e+06     0.030133                11.130933   \n",
       "std     8.453392e+05     0.271604                 4.908924   \n",
       "min     1.645970e+05     0.000000                 2.000000   \n",
       "25%     8.443410e+05     0.000000                 8.000000   \n",
       "50%     1.168386e+06     0.000000                10.000000   \n",
       "75%     1.640137e+06     0.000000                14.000000   \n",
       "max     1.014934e+07     7.000000                43.000000   \n",
       "\n",
       "       Years of Credit History  Maximum Open Credit  \\\n",
       "count              7500.000000         7.500000e+03   \n",
       "mean                 18.317467         9.451537e+05   \n",
       "std                   7.041946         1.602622e+07   \n",
       "min                   4.000000         0.000000e+00   \n",
       "25%                  13.500000         2.792295e+05   \n",
       "50%                  17.000000         4.781590e+05   \n",
       "75%                  21.800000         7.935015e+05   \n",
       "max                  57.700000         1.304726e+09   \n",
       "\n",
       "       Number of Credit Problems  Months since last delinquent  Bankruptcies  \\\n",
       "count                7500.000000                   3419.000000   7486.000000   \n",
       "mean                    0.170000                     34.692600      0.117152   \n",
       "std                     0.498598                     21.688806      0.347192   \n",
       "min                     0.000000                      0.000000      0.000000   \n",
       "25%                     0.000000                     16.000000      0.000000   \n",
       "50%                     0.000000                     32.000000      0.000000   \n",
       "75%                     0.000000                     50.000000      0.000000   \n",
       "max                     7.000000                    118.000000      4.000000   \n",
       "\n",
       "       Current Loan Amount  Current Credit Balance   Monthly Debt  \\\n",
       "count         7.500000e+03            7.500000e+03    7500.000000   \n",
       "mean          1.187318e+07            2.898332e+05   18314.454133   \n",
       "std           3.192612e+07            3.178714e+05   11926.764673   \n",
       "min           1.124200e+04            0.000000e+00       0.000000   \n",
       "25%           1.801690e+05            1.142565e+05   10067.500000   \n",
       "50%           3.095730e+05            2.093230e+05   16076.500000   \n",
       "75%           5.198820e+05            3.604062e+05   23818.000000   \n",
       "max           1.000000e+08            6.506797e+06  136679.000000   \n",
       "\n",
       "       Credit Score  Credit Default  \n",
       "count   5943.000000     7500.000000  \n",
       "mean    1151.087498        0.281733  \n",
       "std     1604.451418        0.449874  \n",
       "min      585.000000        0.000000  \n",
       "25%      711.000000        0.000000  \n",
       "50%      731.000000        0.000000  \n",
       "75%      743.000000        1.000000  \n",
       "max     7510.000000        1.000000  "
      ]
     },
     "execution_count": 82,
     "metadata": {},
     "output_type": "execute_result"
    }
   ],
   "source": [
    "df.describe()"
   ]
  },
  {
   "cell_type": "code",
   "execution_count": 83,
   "metadata": {},
   "outputs": [
    {
     "data": {
      "text/plain": [
       "Home Ownership                       Home Mortgage\n",
       "Annual Income                                  NaN\n",
       "Years in current job                      < 1 year\n",
       "Tax Liens                                        0\n",
       "Number of Open Accounts                          7\n",
       "Years of Credit History                       11.5\n",
       "Maximum Open Credit                         256322\n",
       "Number of Credit Problems                        0\n",
       "Months since last delinquent                   NaN\n",
       "Bankruptcies                                     0\n",
       "Purpose                         debt consolidation\n",
       "Term                                    Short Term\n",
       "Current Loan Amount                         220858\n",
       "Current Credit Balance                      187492\n",
       "Monthly Debt                                 14592\n",
       "Credit Score                                   NaN\n",
       "Credit Default                                   0\n",
       "Name: 10, dtype: object"
      ]
     },
     "execution_count": 83,
     "metadata": {},
     "output_type": "execute_result"
    }
   ],
   "source": [
    "df.iloc[10]"
   ]
  },
  {
   "cell_type": "markdown",
   "metadata": {},
   "source": [
    "Интересно, что признак Years in current job содержит категориальную переменную. Ее впоследствии нужно разбить на отделные колонки-признаки. "
   ]
  },
  {
   "cell_type": "code",
   "execution_count": 84,
   "metadata": {},
   "outputs": [
    {
     "data": {
      "text/plain": [
       "10+ years    2332\n",
       "2 years       705\n",
       "3 years       620\n",
       "< 1 year      563\n",
       "5 years       516\n",
       "1 year        504\n",
       "4 years       469\n",
       "6 years       426\n",
       "7 years       396\n",
       "8 years       339\n",
       "9 years       259\n",
       "Name: Years in current job, dtype: int64"
      ]
     },
     "execution_count": 84,
     "metadata": {},
     "output_type": "execute_result"
    }
   ],
   "source": [
    "df['Years in current job'].value_counts()"
   ]
  },
  {
   "cell_type": "markdown",
   "metadata": {},
   "source": [
    "Теперь посмотрим на содержимое всех признаков типа object:"
   ]
  },
  {
   "cell_type": "code",
   "execution_count": 85,
   "metadata": {
    "scrolled": true
   },
   "outputs": [
    {
     "name": "stdout",
     "output_type": "stream",
     "text": [
      "Home Ownership\n",
      "\n",
      "Home Mortgage    3637\n",
      "Rent             3204\n",
      "Own Home          647\n",
      "Have Mortgage      12\n",
      "Name: Home Ownership, dtype: int64\n",
      "****************************************************************************************************\n",
      "\n",
      "Years in current job\n",
      "\n",
      "10+ years    2332\n",
      "2 years       705\n",
      "3 years       620\n",
      "< 1 year      563\n",
      "5 years       516\n",
      "1 year        504\n",
      "4 years       469\n",
      "6 years       426\n",
      "7 years       396\n",
      "8 years       339\n",
      "9 years       259\n",
      "Name: Years in current job, dtype: int64\n",
      "****************************************************************************************************\n",
      "\n",
      "Purpose\n",
      "\n",
      "debt consolidation      5944\n",
      "other                    665\n",
      "home improvements        412\n",
      "business loan            129\n",
      "buy a car                 96\n",
      "medical bills             71\n",
      "major purchase            40\n",
      "take a trip               37\n",
      "buy house                 34\n",
      "small business            26\n",
      "wedding                   15\n",
      "moving                    11\n",
      "educational expenses      10\n",
      "vacation                   8\n",
      "renewable energy           2\n",
      "Name: Purpose, dtype: int64\n",
      "****************************************************************************************************\n",
      "\n",
      "Term\n",
      "\n",
      "Short Term    5556\n",
      "Long Term     1944\n",
      "Name: Term, dtype: int64\n",
      "****************************************************************************************************\n",
      "\n"
     ]
    }
   ],
   "source": [
    "for colname in df.select_dtypes(include='object').columns:\n",
    "    print(str(colname) + '\\n\\n' + str(df[colname].value_counts()) + '\\n' + '*' * 100 + '\\n')"
   ]
  },
  {
   "cell_type": "markdown",
   "metadata": {},
   "source": [
    "Что-то мне подсказывает, что Have Mortgage - это то же самое, что и Home Mortgage, все одно - ипотека... Значит, надо исправить."
   ]
  },
  {
   "cell_type": "code",
   "execution_count": 86,
   "metadata": {},
   "outputs": [],
   "source": [
    "for i in range(len(df)):\n",
    "    for j in range(len(df.columns)):\n",
    "        if df.iloc[i, j]=='Have Mortgage':\n",
    "            df.iloc[i, j] = 'Home Mortgage'"
   ]
  },
  {
   "cell_type": "markdown",
   "metadata": {},
   "source": [
    "Проверка:"
   ]
  },
  {
   "cell_type": "code",
   "execution_count": 87,
   "metadata": {},
   "outputs": [],
   "source": [
    "l = df['Home Ownership']=='Have Mortgage'\n",
    "for el in l:\n",
    "    if el == True:\n",
    "        print('oh')"
   ]
  },
  {
   "cell_type": "markdown",
   "metadata": {},
   "source": [
    "Посмотрим, есть ли отсутствующие значения:"
   ]
  },
  {
   "cell_type": "code",
   "execution_count": 88,
   "metadata": {},
   "outputs": [
    {
     "data": {
      "text/plain": [
       "Home Ownership                     0\n",
       "Annual Income                   1557\n",
       "Years in current job             371\n",
       "Tax Liens                          0\n",
       "Number of Open Accounts            0\n",
       "Years of Credit History            0\n",
       "Maximum Open Credit                0\n",
       "Number of Credit Problems          0\n",
       "Months since last delinquent    4081\n",
       "Bankruptcies                      14\n",
       "Purpose                            0\n",
       "Term                               0\n",
       "Current Loan Amount                0\n",
       "Current Credit Balance             0\n",
       "Monthly Debt                       0\n",
       "Credit Score                    1557\n",
       "Credit Default                     0\n",
       "dtype: int64"
      ]
     },
     "execution_count": 88,
     "metadata": {},
     "output_type": "execute_result"
    }
   ],
   "source": [
    "len(df) - df.count()"
   ]
  },
  {
   "cell_type": "markdown",
   "metadata": {},
   "source": [
    "Посмотрим, в каких столбцах есть отсутствующие значения:"
   ]
  },
  {
   "cell_type": "code",
   "execution_count": 89,
   "metadata": {},
   "outputs": [
    {
     "name": "stdout",
     "output_type": "stream",
     "text": [
      "Annual Income\n",
      "Years in current job\n",
      "Months since last delinquent\n",
      "Bankruptcies\n",
      "Credit Score\n"
     ]
    }
   ],
   "source": [
    "for col in df.columns:\n",
    "    a = df[col].isna()\n",
    "    for el in a:\n",
    "        if el == True:\n",
    "            print(col)\n",
    "            break\n"
   ]
  },
  {
   "cell_type": "code",
   "execution_count": 90,
   "metadata": {},
   "outputs": [
    {
     "name": "stdout",
     "output_type": "stream",
     "text": [
      "{'Annual Income': 1557,\n",
      " 'Bankruptcies': 14,\n",
      " 'Credit Default': 0,\n",
      " 'Credit Score': 1557,\n",
      " 'Current Credit Balance': 0,\n",
      " 'Current Loan Amount': 0,\n",
      " 'Home Ownership': 0,\n",
      " 'Maximum Open Credit': 0,\n",
      " 'Monthly Debt': 0,\n",
      " 'Months since last delinquent': 4081,\n",
      " 'Number of Credit Problems': 0,\n",
      " 'Number of Open Accounts': 0,\n",
      " 'Purpose': 0,\n",
      " 'Tax Liens': 0,\n",
      " 'Term': 0,\n",
      " 'Years in current job': 371,\n",
      " 'Years of Credit History': 0}\n"
     ]
    }
   ],
   "source": [
    "dictNan = {}\n",
    "num=0\n",
    "for col in df.columns:\n",
    "    a = df[col].isna()\n",
    "    for el in a:\n",
    "        if el == True:\n",
    "            #print(col)\n",
    "            num+=1\n",
    "    dictNan[col] = num\n",
    "    num = 0\n",
    "\n",
    "pprint.pprint(dictNan)"
   ]
  },
  {
   "cell_type": "markdown",
   "metadata": {},
   "source": [
    "Видим, что редактировать NaN придется в 5 столбцах из 17. "
   ]
  },
  {
   "cell_type": "code",
   "execution_count": 91,
   "metadata": {},
   "outputs": [
    {
     "data": {
      "text/plain": [
       "count    5.943000e+03\n",
       "mean     1.366392e+06\n",
       "std      8.453392e+05\n",
       "min      1.645970e+05\n",
       "25%      8.443410e+05\n",
       "50%      1.168386e+06\n",
       "75%      1.640137e+06\n",
       "max      1.014934e+07\n",
       "Name: Annual Income, dtype: float64"
      ]
     },
     "execution_count": 91,
     "metadata": {},
     "output_type": "execute_result"
    }
   ],
   "source": [
    "df['Annual Income'].describe()"
   ]
  },
  {
   "cell_type": "code",
   "execution_count": 92,
   "metadata": {},
   "outputs": [],
   "source": [
    "meandf = df['Annual Income'].mean()"
   ]
  },
  {
   "cell_type": "code",
   "execution_count": 93,
   "metadata": {},
   "outputs": [],
   "source": [
    "df['Annual Income'].fillna(meandf, inplace=True)"
   ]
  },
  {
   "cell_type": "code",
   "execution_count": 94,
   "metadata": {},
   "outputs": [
    {
     "data": {
      "text/plain": [
       "count    7.500000e+03\n",
       "mean     1.366392e+06\n",
       "std      7.524812e+05\n",
       "min      1.645970e+05\n",
       "25%      9.311330e+05\n",
       "50%      1.366392e+06\n",
       "75%      1.499974e+06\n",
       "max      1.014934e+07\n",
       "Name: Annual Income, dtype: float64"
      ]
     },
     "execution_count": 94,
     "metadata": {},
     "output_type": "execute_result"
    }
   ],
   "source": [
    "df['Annual Income'].describe()"
   ]
  },
  {
   "cell_type": "code",
   "execution_count": 95,
   "metadata": {},
   "outputs": [
    {
     "data": {
      "text/plain": [
       "0.0    6660\n",
       "1.0     786\n",
       "2.0      31\n",
       "3.0       7\n",
       "4.0       2\n",
       "Name: Bankruptcies, dtype: int64"
      ]
     },
     "execution_count": 95,
     "metadata": {},
     "output_type": "execute_result"
    }
   ],
   "source": [
    "df['Bankruptcies'].value_counts()"
   ]
  },
  {
   "cell_type": "markdown",
   "metadata": {},
   "source": [
    "Видим, что это - дискретная переменная, заменим на среднее"
   ]
  },
  {
   "cell_type": "code",
   "execution_count": 96,
   "metadata": {},
   "outputs": [],
   "source": [
    "df['Bankruptcies'].fillna(df['Bankruptcies'].mean(), inplace=True)"
   ]
  },
  {
   "cell_type": "code",
   "execution_count": 97,
   "metadata": {},
   "outputs": [
    {
     "data": {
      "text/plain": [
       "count    5943.000000\n",
       "mean     1151.087498\n",
       "std      1604.451418\n",
       "min       585.000000\n",
       "25%       711.000000\n",
       "50%       731.000000\n",
       "75%       743.000000\n",
       "max      7510.000000\n",
       "Name: Credit Score, dtype: float64"
      ]
     },
     "execution_count": 97,
     "metadata": {},
     "output_type": "execute_result"
    }
   ],
   "source": [
    "df['Credit Score'].describe()"
   ]
  },
  {
   "cell_type": "markdown",
   "metadata": {},
   "source": [
    "По 'Credit Score' значения вещественные... Пока что заменим на среднее"
   ]
  },
  {
   "cell_type": "code",
   "execution_count": 98,
   "metadata": {},
   "outputs": [],
   "source": [
    "df['Credit Score'].fillna(df['Credit Score'].mean(), inplace=True)"
   ]
  },
  {
   "cell_type": "code",
   "execution_count": 99,
   "metadata": {},
   "outputs": [
    {
     "data": {
      "text/plain": [
       "count    7500.000000\n",
       "mean     1151.087498\n",
       "std      1428.207201\n",
       "min       585.000000\n",
       "25%       718.000000\n",
       "50%       738.000000\n",
       "75%      1151.087498\n",
       "max      7510.000000\n",
       "Name: Credit Score, dtype: float64"
      ]
     },
     "execution_count": 99,
     "metadata": {},
     "output_type": "execute_result"
    }
   ],
   "source": [
    "df['Credit Score'].describe()"
   ]
  },
  {
   "cell_type": "markdown",
   "metadata": {},
   "source": [
    "Сильно повлияло на 75% процентиль..."
   ]
  },
  {
   "cell_type": "markdown",
   "metadata": {},
   "source": [
    "'Months since last delinquent' - переменная количественная, заменим на среднее"
   ]
  },
  {
   "cell_type": "code",
   "execution_count": 100,
   "metadata": {},
   "outputs": [],
   "source": [
    "df['Months since last delinquent'].fillna(df['Months since last delinquent'].mean(), inplace=True)"
   ]
  },
  {
   "cell_type": "code",
   "execution_count": 101,
   "metadata": {},
   "outputs": [
    {
     "data": {
      "text/plain": [
       "10+ years    2332\n",
       "2 years       705\n",
       "3 years       620\n",
       "< 1 year      563\n",
       "5 years       516\n",
       "1 year        504\n",
       "4 years       469\n",
       "6 years       426\n",
       "7 years       396\n",
       "8 years       339\n",
       "9 years       259\n",
       "Name: Years in current job, dtype: int64"
      ]
     },
     "execution_count": 101,
     "metadata": {},
     "output_type": "execute_result"
    }
   ],
   "source": [
    "df['Years in current job'].value_counts()"
   ]
  },
  {
   "cell_type": "code",
   "execution_count": 102,
   "metadata": {},
   "outputs": [
    {
     "data": {
      "image/png": "[encoded data removed]",
      "text/plain": [
       "<Figure size 720x576 with 1 Axes>"
      ]
     },
     "metadata": {
      "needs_background": "light"
     },
     "output_type": "display_data"
    }
   ],
   "source": [
    "plt.figure(figsize=(10, 8))\n",
    "\n",
    "sns.countplot(x=\"Years in current job\", hue='Credit Default', data=df)\n",
    "plt.title('Years in current job grouped by target variable')\n",
    "plt.legend(title='Credit Default', loc='upper right')\n",
    "\n",
    "plt.show()"
   ]
  },
  {
   "cell_type": "markdown",
   "metadata": {},
   "source": [
    "Переменная 'Years in current job' содержит объектные данные. Для начала эту переменную нужно преобразовать в 11 других (dummies) переменных, и потом заменять отсутствующие значения."
   ]
  },
  {
   "cell_type": "code",
   "execution_count": 103,
   "metadata": {
    "scrolled": true
   },
   "outputs": [],
   "source": [
    "dumm=pd.get_dummies(df['Years in current job'])"
   ]
  },
  {
   "cell_type": "code",
   "execution_count": 104,
   "metadata": {},
   "outputs": [
    {
     "data": {
      "text/html": [
       "<div>\n",
       "<style scoped>\n",
       "    .dataframe tbody tr th:only-of-type {\n",
       "        vertical-align: middle;\n",
       "    }\n",
       "\n",
       "    .dataframe tbody tr th {\n",
       "        vertical-align: top;\n",
       "    }\n",
       "\n",
       "    .dataframe thead th {\n",
       "        text-align: right;\n",
       "    }\n",
       "</style>\n",
       "<table border=\"1\" class=\"dataframe\">\n",
       "  <thead>\n",
       "    <tr style=\"text-align: right;\">\n",
       "      <th></th>\n",
       "      <th>Home Ownership</th>\n",
       "      <th>Annual Income</th>\n",
       "      <th>Tax Liens</th>\n",
       "      <th>Number of Open Accounts</th>\n",
       "      <th>Years of Credit History</th>\n",
       "      <th>Maximum Open Credit</th>\n",
       "      <th>Number of Credit Problems</th>\n",
       "      <th>Months since last delinquent</th>\n",
       "      <th>Bankruptcies</th>\n",
       "      <th>Purpose</th>\n",
       "      <th>...</th>\n",
       "      <th>Years in current job=1</th>\n",
       "      <th>Years in current job=2</th>\n",
       "      <th>Years in current job=3</th>\n",
       "      <th>Years in current job=4</th>\n",
       "      <th>Years in current job=5</th>\n",
       "      <th>Years in current job=6</th>\n",
       "      <th>Years in current job=7</th>\n",
       "      <th>Years in current job=8</th>\n",
       "      <th>Years in current job=9</th>\n",
       "      <th>Years in current job&gt;=10</th>\n",
       "    </tr>\n",
       "  </thead>\n",
       "  <tbody>\n",
       "    <tr>\n",
       "      <th>0</th>\n",
       "      <td>Own Home</td>\n",
       "      <td>482087.0</td>\n",
       "      <td>0.0</td>\n",
       "      <td>11.0</td>\n",
       "      <td>26.3</td>\n",
       "      <td>685960.0</td>\n",
       "      <td>1.0</td>\n",
       "      <td>34.6926</td>\n",
       "      <td>1.0</td>\n",
       "      <td>debt consolidation</td>\n",
       "      <td>...</td>\n",
       "      <td>0</td>\n",
       "      <td>0</td>\n",
       "      <td>0</td>\n",
       "      <td>0</td>\n",
       "      <td>0</td>\n",
       "      <td>0</td>\n",
       "      <td>0</td>\n",
       "      <td>0</td>\n",
       "      <td>0</td>\n",
       "      <td>0</td>\n",
       "    </tr>\n",
       "    <tr>\n",
       "      <th>1</th>\n",
       "      <td>Own Home</td>\n",
       "      <td>1025487.0</td>\n",
       "      <td>0.0</td>\n",
       "      <td>15.0</td>\n",
       "      <td>15.3</td>\n",
       "      <td>1181730.0</td>\n",
       "      <td>0.0</td>\n",
       "      <td>34.6926</td>\n",
       "      <td>0.0</td>\n",
       "      <td>debt consolidation</td>\n",
       "      <td>...</td>\n",
       "      <td>0</td>\n",
       "      <td>0</td>\n",
       "      <td>0</td>\n",
       "      <td>0</td>\n",
       "      <td>0</td>\n",
       "      <td>0</td>\n",
       "      <td>0</td>\n",
       "      <td>0</td>\n",
       "      <td>0</td>\n",
       "      <td>1</td>\n",
       "    </tr>\n",
       "    <tr>\n",
       "      <th>2</th>\n",
       "      <td>Home Mortgage</td>\n",
       "      <td>751412.0</td>\n",
       "      <td>0.0</td>\n",
       "      <td>11.0</td>\n",
       "      <td>35.0</td>\n",
       "      <td>1182434.0</td>\n",
       "      <td>0.0</td>\n",
       "      <td>34.6926</td>\n",
       "      <td>0.0</td>\n",
       "      <td>debt consolidation</td>\n",
       "      <td>...</td>\n",
       "      <td>0</td>\n",
       "      <td>0</td>\n",
       "      <td>0</td>\n",
       "      <td>0</td>\n",
       "      <td>0</td>\n",
       "      <td>0</td>\n",
       "      <td>0</td>\n",
       "      <td>1</td>\n",
       "      <td>0</td>\n",
       "      <td>0</td>\n",
       "    </tr>\n",
       "    <tr>\n",
       "      <th>3</th>\n",
       "      <td>Own Home</td>\n",
       "      <td>805068.0</td>\n",
       "      <td>0.0</td>\n",
       "      <td>8.0</td>\n",
       "      <td>22.5</td>\n",
       "      <td>147400.0</td>\n",
       "      <td>1.0</td>\n",
       "      <td>34.6926</td>\n",
       "      <td>1.0</td>\n",
       "      <td>debt consolidation</td>\n",
       "      <td>...</td>\n",
       "      <td>0</td>\n",
       "      <td>0</td>\n",
       "      <td>0</td>\n",
       "      <td>0</td>\n",
       "      <td>0</td>\n",
       "      <td>1</td>\n",
       "      <td>0</td>\n",
       "      <td>0</td>\n",
       "      <td>0</td>\n",
       "      <td>0</td>\n",
       "    </tr>\n",
       "    <tr>\n",
       "      <th>4</th>\n",
       "      <td>Rent</td>\n",
       "      <td>776264.0</td>\n",
       "      <td>0.0</td>\n",
       "      <td>13.0</td>\n",
       "      <td>13.6</td>\n",
       "      <td>385836.0</td>\n",
       "      <td>1.0</td>\n",
       "      <td>34.6926</td>\n",
       "      <td>0.0</td>\n",
       "      <td>debt consolidation</td>\n",
       "      <td>...</td>\n",
       "      <td>0</td>\n",
       "      <td>0</td>\n",
       "      <td>0</td>\n",
       "      <td>0</td>\n",
       "      <td>0</td>\n",
       "      <td>0</td>\n",
       "      <td>0</td>\n",
       "      <td>1</td>\n",
       "      <td>0</td>\n",
       "      <td>0</td>\n",
       "    </tr>\n",
       "  </tbody>\n",
       "</table>\n",
       "<p>5 rows × 27 columns</p>\n",
       "</div>"
      ],
      "text/plain": [
       "  Home Ownership  Annual Income  Tax Liens  Number of Open Accounts  \\\n",
       "0       Own Home       482087.0        0.0                     11.0   \n",
       "1       Own Home      1025487.0        0.0                     15.0   \n",
       "2  Home Mortgage       751412.0        0.0                     11.0   \n",
       "3       Own Home       805068.0        0.0                      8.0   \n",
       "4           Rent       776264.0        0.0                     13.0   \n",
       "\n",
       "   Years of Credit History  Maximum Open Credit  Number of Credit Problems  \\\n",
       "0                     26.3             685960.0                        1.0   \n",
       "1                     15.3            1181730.0                        0.0   \n",
       "2                     35.0            1182434.0                        0.0   \n",
       "3                     22.5             147400.0                        1.0   \n",
       "4                     13.6             385836.0                        1.0   \n",
       "\n",
       "   Months since last delinquent  Bankruptcies             Purpose  \\\n",
       "0                       34.6926           1.0  debt consolidation   \n",
       "1                       34.6926           0.0  debt consolidation   \n",
       "2                       34.6926           0.0  debt consolidation   \n",
       "3                       34.6926           1.0  debt consolidation   \n",
       "4                       34.6926           0.0  debt consolidation   \n",
       "\n",
       "             ...            Years in current job=1  Years in current job=2  \\\n",
       "0            ...                                 0                       0   \n",
       "1            ...                                 0                       0   \n",
       "2            ...                                 0                       0   \n",
       "3            ...                                 0                       0   \n",
       "4            ...                                 0                       0   \n",
       "\n",
       "   Years in current job=3  Years in current job=4  Years in current job=5  \\\n",
       "0                       0                       0                       0   \n",
       "1                       0                       0                       0   \n",
       "2                       0                       0                       0   \n",
       "3                       0                       0                       0   \n",
       "4                       0                       0                       0   \n",
       "\n",
       "   Years in current job=6  Years in current job=7  Years in current job=8  \\\n",
       "0                       0                       0                       0   \n",
       "1                       0                       0                       0   \n",
       "2                       0                       0                       1   \n",
       "3                       1                       0                       0   \n",
       "4                       0                       0                       1   \n",
       "\n",
       "   Years in current job=9  Years in current job>=10  \n",
       "0                       0                         0  \n",
       "1                       0                         1  \n",
       "2                       0                         0  \n",
       "3                       0                         0  \n",
       "4                       0                         0  \n",
       "\n",
       "[5 rows x 27 columns]"
      ]
     },
     "execution_count": 104,
     "metadata": {},
     "output_type": "execute_result"
    }
   ],
   "source": [
    "df.loc[:, 'Years in current job<1']=dumm['< 1 year']\n",
    "df.loc[:, 'Years in current job=1']=dumm['1 year']\n",
    "df.loc[:, 'Years in current job=2']=dumm['2 years']\n",
    "df.loc[:, 'Years in current job=3']=dumm['3 years']\n",
    "df.loc[:, 'Years in current job=4']=dumm['4 years']\n",
    "df.loc[:, 'Years in current job=5']=dumm['5 years']\n",
    "df.loc[:, 'Years in current job=6']=dumm['6 years']\n",
    "df.loc[:, 'Years in current job=7']=dumm['7 years']\n",
    "df.loc[:, 'Years in current job=8']=dumm['8 years']\n",
    "df.loc[:, 'Years in current job=9']=dumm['9 years']\n",
    "df.loc[:, 'Years in current job>=10']=dumm['10+ years']\n",
    "df = df.drop(['Years in current job'], axis=1)\n",
    "df.head()"
   ]
  },
  {
   "cell_type": "code",
   "execution_count": 105,
   "metadata": {},
   "outputs": [],
   "source": [
    "df['Years in current job<1'].fillna(df['Years in current job<1'].mean(), inplace=True)\n",
    "df['Years in current job=1'].fillna(df['Years in current job=1'].mean(), inplace=True)\n",
    "df['Years in current job=2'].fillna(df['Years in current job=2'].mean(), inplace=True)\n",
    "df['Years in current job=3'].fillna(df['Years in current job=3'].mean(), inplace=True)\n",
    "df['Years in current job=4'].fillna(df['Years in current job=4'].mean(), inplace=True)\n",
    "df['Years in current job=5'].fillna(df['Years in current job=5'].mean(), inplace=True)\n",
    "df['Years in current job=6'].fillna(df['Years in current job=6'].mean(), inplace=True)\n",
    "df['Years in current job=7'].fillna(df['Years in current job=7'].mean(), inplace=True)\n",
    "df['Years in current job=8'].fillna(df['Years in current job=8'].mean(), inplace=True)\n",
    "df['Years in current job=9'].fillna(df['Years in current job=9'].mean(), inplace=True)\n",
    "df['Years in current job>=10'].fillna(df['Years in current job>=10'].mean(), inplace=True)"
   ]
  },
  {
   "cell_type": "markdown",
   "metadata": {},
   "source": [
    "Переменная \"Home Ownership\" также категориальная, значит, нужно ее преобразовать в dummy переменные:"
   ]
  },
  {
   "cell_type": "code",
   "execution_count": 106,
   "metadata": {
    "scrolled": true
   },
   "outputs": [
    {
     "data": {
      "text/html": [
       "<div>\n",
       "<style scoped>\n",
       "    .dataframe tbody tr th:only-of-type {\n",
       "        vertical-align: middle;\n",
       "    }\n",
       "\n",
       "    .dataframe tbody tr th {\n",
       "        vertical-align: top;\n",
       "    }\n",
       "\n",
       "    .dataframe thead th {\n",
       "        text-align: right;\n",
       "    }\n",
       "</style>\n",
       "<table border=\"1\" class=\"dataframe\">\n",
       "  <thead>\n",
       "    <tr style=\"text-align: right;\">\n",
       "      <th></th>\n",
       "      <th>Home Mortgage</th>\n",
       "      <th>Own Home</th>\n",
       "      <th>Rent</th>\n",
       "    </tr>\n",
       "  </thead>\n",
       "  <tbody>\n",
       "    <tr>\n",
       "      <th>0</th>\n",
       "      <td>0</td>\n",
       "      <td>1</td>\n",
       "      <td>0</td>\n",
       "    </tr>\n",
       "    <tr>\n",
       "      <th>1</th>\n",
       "      <td>0</td>\n",
       "      <td>1</td>\n",
       "      <td>0</td>\n",
       "    </tr>\n",
       "    <tr>\n",
       "      <th>2</th>\n",
       "      <td>1</td>\n",
       "      <td>0</td>\n",
       "      <td>0</td>\n",
       "    </tr>\n",
       "    <tr>\n",
       "      <th>3</th>\n",
       "      <td>0</td>\n",
       "      <td>1</td>\n",
       "      <td>0</td>\n",
       "    </tr>\n",
       "    <tr>\n",
       "      <th>4</th>\n",
       "      <td>0</td>\n",
       "      <td>0</td>\n",
       "      <td>1</td>\n",
       "    </tr>\n",
       "  </tbody>\n",
       "</table>\n",
       "</div>"
      ],
      "text/plain": [
       "   Home Mortgage  Own Home  Rent\n",
       "0              0         1     0\n",
       "1              0         1     0\n",
       "2              1         0     0\n",
       "3              0         1     0\n",
       "4              0         0     1"
      ]
     },
     "execution_count": 106,
     "metadata": {},
     "output_type": "execute_result"
    }
   ],
   "source": [
    "dumm2 = pd.get_dummies(df['Home Ownership'])\n",
    "dumm2.head()"
   ]
  },
  {
   "cell_type": "code",
   "execution_count": 107,
   "metadata": {},
   "outputs": [
    {
     "data": {
      "text/html": [
       "<div>\n",
       "<style scoped>\n",
       "    .dataframe tbody tr th:only-of-type {\n",
       "        vertical-align: middle;\n",
       "    }\n",
       "\n",
       "    .dataframe tbody tr th {\n",
       "        vertical-align: top;\n",
       "    }\n",
       "\n",
       "    .dataframe thead th {\n",
       "        text-align: right;\n",
       "    }\n",
       "</style>\n",
       "<table border=\"1\" class=\"dataframe\">\n",
       "  <thead>\n",
       "    <tr style=\"text-align: right;\">\n",
       "      <th></th>\n",
       "      <th>Annual Income</th>\n",
       "      <th>Tax Liens</th>\n",
       "      <th>Number of Open Accounts</th>\n",
       "      <th>Years of Credit History</th>\n",
       "      <th>Maximum Open Credit</th>\n",
       "      <th>Number of Credit Problems</th>\n",
       "      <th>Months since last delinquent</th>\n",
       "      <th>Bankruptcies</th>\n",
       "      <th>Purpose</th>\n",
       "      <th>Term</th>\n",
       "      <th>...</th>\n",
       "      <th>Years in current job=4</th>\n",
       "      <th>Years in current job=5</th>\n",
       "      <th>Years in current job=6</th>\n",
       "      <th>Years in current job=7</th>\n",
       "      <th>Years in current job=8</th>\n",
       "      <th>Years in current job=9</th>\n",
       "      <th>Years in current job&gt;=10</th>\n",
       "      <th>Home Mortgage</th>\n",
       "      <th>Own Home</th>\n",
       "      <th>Rent</th>\n",
       "    </tr>\n",
       "  </thead>\n",
       "  <tbody>\n",
       "    <tr>\n",
       "      <th>0</th>\n",
       "      <td>482087.0</td>\n",
       "      <td>0.0</td>\n",
       "      <td>11.0</td>\n",
       "      <td>26.3</td>\n",
       "      <td>685960.0</td>\n",
       "      <td>1.0</td>\n",
       "      <td>34.6926</td>\n",
       "      <td>1.0</td>\n",
       "      <td>debt consolidation</td>\n",
       "      <td>Short Term</td>\n",
       "      <td>...</td>\n",
       "      <td>0</td>\n",
       "      <td>0</td>\n",
       "      <td>0</td>\n",
       "      <td>0</td>\n",
       "      <td>0</td>\n",
       "      <td>0</td>\n",
       "      <td>0</td>\n",
       "      <td>0</td>\n",
       "      <td>1</td>\n",
       "      <td>0</td>\n",
       "    </tr>\n",
       "    <tr>\n",
       "      <th>1</th>\n",
       "      <td>1025487.0</td>\n",
       "      <td>0.0</td>\n",
       "      <td>15.0</td>\n",
       "      <td>15.3</td>\n",
       "      <td>1181730.0</td>\n",
       "      <td>0.0</td>\n",
       "      <td>34.6926</td>\n",
       "      <td>0.0</td>\n",
       "      <td>debt consolidation</td>\n",
       "      <td>Long Term</td>\n",
       "      <td>...</td>\n",
       "      <td>0</td>\n",
       "      <td>0</td>\n",
       "      <td>0</td>\n",
       "      <td>0</td>\n",
       "      <td>0</td>\n",
       "      <td>0</td>\n",
       "      <td>1</td>\n",
       "      <td>0</td>\n",
       "      <td>1</td>\n",
       "      <td>0</td>\n",
       "    </tr>\n",
       "    <tr>\n",
       "      <th>2</th>\n",
       "      <td>751412.0</td>\n",
       "      <td>0.0</td>\n",
       "      <td>11.0</td>\n",
       "      <td>35.0</td>\n",
       "      <td>1182434.0</td>\n",
       "      <td>0.0</td>\n",
       "      <td>34.6926</td>\n",
       "      <td>0.0</td>\n",
       "      <td>debt consolidation</td>\n",
       "      <td>Short Term</td>\n",
       "      <td>...</td>\n",
       "      <td>0</td>\n",
       "      <td>0</td>\n",
       "      <td>0</td>\n",
       "      <td>0</td>\n",
       "      <td>1</td>\n",
       "      <td>0</td>\n",
       "      <td>0</td>\n",
       "      <td>1</td>\n",
       "      <td>0</td>\n",
       "      <td>0</td>\n",
       "    </tr>\n",
       "    <tr>\n",
       "      <th>3</th>\n",
       "      <td>805068.0</td>\n",
       "      <td>0.0</td>\n",
       "      <td>8.0</td>\n",
       "      <td>22.5</td>\n",
       "      <td>147400.0</td>\n",
       "      <td>1.0</td>\n",
       "      <td>34.6926</td>\n",
       "      <td>1.0</td>\n",
       "      <td>debt consolidation</td>\n",
       "      <td>Short Term</td>\n",
       "      <td>...</td>\n",
       "      <td>0</td>\n",
       "      <td>0</td>\n",
       "      <td>1</td>\n",
       "      <td>0</td>\n",
       "      <td>0</td>\n",
       "      <td>0</td>\n",
       "      <td>0</td>\n",
       "      <td>0</td>\n",
       "      <td>1</td>\n",
       "      <td>0</td>\n",
       "    </tr>\n",
       "    <tr>\n",
       "      <th>4</th>\n",
       "      <td>776264.0</td>\n",
       "      <td>0.0</td>\n",
       "      <td>13.0</td>\n",
       "      <td>13.6</td>\n",
       "      <td>385836.0</td>\n",
       "      <td>1.0</td>\n",
       "      <td>34.6926</td>\n",
       "      <td>0.0</td>\n",
       "      <td>debt consolidation</td>\n",
       "      <td>Short Term</td>\n",
       "      <td>...</td>\n",
       "      <td>0</td>\n",
       "      <td>0</td>\n",
       "      <td>0</td>\n",
       "      <td>0</td>\n",
       "      <td>1</td>\n",
       "      <td>0</td>\n",
       "      <td>0</td>\n",
       "      <td>0</td>\n",
       "      <td>0</td>\n",
       "      <td>1</td>\n",
       "    </tr>\n",
       "  </tbody>\n",
       "</table>\n",
       "<p>5 rows × 29 columns</p>\n",
       "</div>"
      ],
      "text/plain": [
       "   Annual Income  Tax Liens  Number of Open Accounts  Years of Credit History  \\\n",
       "0       482087.0        0.0                     11.0                     26.3   \n",
       "1      1025487.0        0.0                     15.0                     15.3   \n",
       "2       751412.0        0.0                     11.0                     35.0   \n",
       "3       805068.0        0.0                      8.0                     22.5   \n",
       "4       776264.0        0.0                     13.0                     13.6   \n",
       "\n",
       "   Maximum Open Credit  Number of Credit Problems  \\\n",
       "0             685960.0                        1.0   \n",
       "1            1181730.0                        0.0   \n",
       "2            1182434.0                        0.0   \n",
       "3             147400.0                        1.0   \n",
       "4             385836.0                        1.0   \n",
       "\n",
       "   Months since last delinquent  Bankruptcies             Purpose        Term  \\\n",
       "0                       34.6926           1.0  debt consolidation  Short Term   \n",
       "1                       34.6926           0.0  debt consolidation   Long Term   \n",
       "2                       34.6926           0.0  debt consolidation  Short Term   \n",
       "3                       34.6926           1.0  debt consolidation  Short Term   \n",
       "4                       34.6926           0.0  debt consolidation  Short Term   \n",
       "\n",
       "   ...   Years in current job=4  Years in current job=5  \\\n",
       "0  ...                        0                       0   \n",
       "1  ...                        0                       0   \n",
       "2  ...                        0                       0   \n",
       "3  ...                        0                       0   \n",
       "4  ...                        0                       0   \n",
       "\n",
       "   Years in current job=6  Years in current job=7  Years in current job=8  \\\n",
       "0                       0                       0                       0   \n",
       "1                       0                       0                       0   \n",
       "2                       0                       0                       1   \n",
       "3                       1                       0                       0   \n",
       "4                       0                       0                       1   \n",
       "\n",
       "   Years in current job=9  Years in current job>=10  Home Mortgage  Own Home  \\\n",
       "0                       0                         0              0         1   \n",
       "1                       0                         1              0         1   \n",
       "2                       0                         0              1         0   \n",
       "3                       0                         0              0         1   \n",
       "4                       0                         0              0         0   \n",
       "\n",
       "   Rent  \n",
       "0     0  \n",
       "1     0  \n",
       "2     0  \n",
       "3     0  \n",
       "4     1  \n",
       "\n",
       "[5 rows x 29 columns]"
      ]
     },
     "execution_count": 107,
     "metadata": {},
     "output_type": "execute_result"
    }
   ],
   "source": [
    "df.loc[:, 'Home Mortgage']=dumm2['Home Mortgage']\n",
    "df.loc[:, 'Own Home']=dumm2['Own Home']\n",
    "df.loc[:, 'Rent']=dumm2['Rent']\n",
    "df = df.drop(['Home Ownership'], axis=1)\n",
    "df.head()"
   ]
  },
  {
   "cell_type": "markdown",
   "metadata": {},
   "source": [
    "Посмотрим на переменную Purpose:"
   ]
  },
  {
   "cell_type": "code",
   "execution_count": 108,
   "metadata": {},
   "outputs": [
    {
     "data": {
      "image/png": "[encoded data removed]",
      "text/plain": [
       "<Figure size 864x432 with 1 Axes>"
      ]
     },
     "metadata": {
      "needs_background": "light"
     },
     "output_type": "display_data"
    }
   ],
   "source": [
    "fig = plt.figure(figsize=(12, 6))\n",
    "\n",
    "sns.countplot(x=\"Purpose\", hue='Credit Default', data=df)\n",
    "plt.title('Purpose feature job grouped by target variable')\n",
    "plt.legend(title='Credit Default', loc='upper right')\n",
    "fig.autofmt_xdate() #автоматически вращает текст оси x\n",
    "\n",
    "plt.show()"
   ]
  },
  {
   "cell_type": "markdown",
   "metadata": {},
   "source": [
    "Здесь видим 2 четких выброса (всего 2 и 8 значений, соответственно, как видели выше в изучении категориальных данных): кредиты взятые с целью renewable energy и vacation. Заменим их на моды по остальным признакам:"
   ]
  },
  {
   "cell_type": "code",
   "execution_count": 109,
   "metadata": {},
   "outputs": [],
   "source": [
    "df.loc[df['Purpose']=='renewable energy', 'Purpose']=df['Purpose'].mode()\n",
    "df.loc[df['Purpose']=='vacation', 'Purpose']=df['Purpose'].mode()"
   ]
  },
  {
   "cell_type": "code",
   "execution_count": 110,
   "metadata": {},
   "outputs": [
    {
     "data": {
      "text/plain": [
       "debt consolidation      5944\n",
       "other                    665\n",
       "home improvements        412\n",
       "business loan            129\n",
       "buy a car                 96\n",
       "medical bills             71\n",
       "major purchase            40\n",
       "take a trip               37\n",
       "buy house                 34\n",
       "small business            26\n",
       "wedding                   15\n",
       "moving                    11\n",
       "educational expenses      10\n",
       "Name: Purpose, dtype: int64"
      ]
     },
     "execution_count": 110,
     "metadata": {},
     "output_type": "execute_result"
    }
   ],
   "source": [
    "df['Purpose'].value_counts()"
   ]
  },
  {
   "cell_type": "code",
   "execution_count": 111,
   "metadata": {},
   "outputs": [
    {
     "data": {
      "image/png": "[encoded data removed]",
      "text/plain": [
       "<Figure size 864x432 with 1 Axes>"
      ]
     },
     "metadata": {
      "needs_background": "light"
     },
     "output_type": "display_data"
    }
   ],
   "source": [
    "fig = plt.figure(figsize=(12, 6))\n",
    "\n",
    "sns.countplot(x=\"Purpose\", hue='Credit Default', data=df)\n",
    "plt.title('Purpose feature job grouped by target variable')\n",
    "plt.legend(title='Credit Default', loc='upper right')\n",
    "fig.autofmt_xdate() #автоматически вращает текст оси x\n",
    "\n",
    "plt.show()"
   ]
  },
  {
   "cell_type": "markdown",
   "metadata": {},
   "source": [
    "Превратим эту переменную в dummy признаки:"
   ]
  },
  {
   "cell_type": "code",
   "execution_count": 112,
   "metadata": {},
   "outputs": [
    {
     "data": {
      "text/html": [
       "<div>\n",
       "<style scoped>\n",
       "    .dataframe tbody tr th:only-of-type {\n",
       "        vertical-align: middle;\n",
       "    }\n",
       "\n",
       "    .dataframe tbody tr th {\n",
       "        vertical-align: top;\n",
       "    }\n",
       "\n",
       "    .dataframe thead th {\n",
       "        text-align: right;\n",
       "    }\n",
       "</style>\n",
       "<table border=\"1\" class=\"dataframe\">\n",
       "  <thead>\n",
       "    <tr style=\"text-align: right;\">\n",
       "      <th></th>\n",
       "      <th>business loan</th>\n",
       "      <th>buy a car</th>\n",
       "      <th>buy house</th>\n",
       "      <th>debt consolidation</th>\n",
       "      <th>educational expenses</th>\n",
       "      <th>home improvements</th>\n",
       "      <th>major purchase</th>\n",
       "      <th>medical bills</th>\n",
       "      <th>moving</th>\n",
       "      <th>other</th>\n",
       "      <th>small business</th>\n",
       "      <th>take a trip</th>\n",
       "      <th>wedding</th>\n",
       "    </tr>\n",
       "  </thead>\n",
       "  <tbody>\n",
       "    <tr>\n",
       "      <th>0</th>\n",
       "      <td>0</td>\n",
       "      <td>0</td>\n",
       "      <td>0</td>\n",
       "      <td>1</td>\n",
       "      <td>0</td>\n",
       "      <td>0</td>\n",
       "      <td>0</td>\n",
       "      <td>0</td>\n",
       "      <td>0</td>\n",
       "      <td>0</td>\n",
       "      <td>0</td>\n",
       "      <td>0</td>\n",
       "      <td>0</td>\n",
       "    </tr>\n",
       "    <tr>\n",
       "      <th>1</th>\n",
       "      <td>0</td>\n",
       "      <td>0</td>\n",
       "      <td>0</td>\n",
       "      <td>1</td>\n",
       "      <td>0</td>\n",
       "      <td>0</td>\n",
       "      <td>0</td>\n",
       "      <td>0</td>\n",
       "      <td>0</td>\n",
       "      <td>0</td>\n",
       "      <td>0</td>\n",
       "      <td>0</td>\n",
       "      <td>0</td>\n",
       "    </tr>\n",
       "    <tr>\n",
       "      <th>2</th>\n",
       "      <td>0</td>\n",
       "      <td>0</td>\n",
       "      <td>0</td>\n",
       "      <td>1</td>\n",
       "      <td>0</td>\n",
       "      <td>0</td>\n",
       "      <td>0</td>\n",
       "      <td>0</td>\n",
       "      <td>0</td>\n",
       "      <td>0</td>\n",
       "      <td>0</td>\n",
       "      <td>0</td>\n",
       "      <td>0</td>\n",
       "    </tr>\n",
       "    <tr>\n",
       "      <th>3</th>\n",
       "      <td>0</td>\n",
       "      <td>0</td>\n",
       "      <td>0</td>\n",
       "      <td>1</td>\n",
       "      <td>0</td>\n",
       "      <td>0</td>\n",
       "      <td>0</td>\n",
       "      <td>0</td>\n",
       "      <td>0</td>\n",
       "      <td>0</td>\n",
       "      <td>0</td>\n",
       "      <td>0</td>\n",
       "      <td>0</td>\n",
       "    </tr>\n",
       "    <tr>\n",
       "      <th>4</th>\n",
       "      <td>0</td>\n",
       "      <td>0</td>\n",
       "      <td>0</td>\n",
       "      <td>1</td>\n",
       "      <td>0</td>\n",
       "      <td>0</td>\n",
       "      <td>0</td>\n",
       "      <td>0</td>\n",
       "      <td>0</td>\n",
       "      <td>0</td>\n",
       "      <td>0</td>\n",
       "      <td>0</td>\n",
       "      <td>0</td>\n",
       "    </tr>\n",
       "  </tbody>\n",
       "</table>\n",
       "</div>"
      ],
      "text/plain": [
       "   business loan  buy a car  buy house  debt consolidation  \\\n",
       "0              0          0          0                   1   \n",
       "1              0          0          0                   1   \n",
       "2              0          0          0                   1   \n",
       "3              0          0          0                   1   \n",
       "4              0          0          0                   1   \n",
       "\n",
       "   educational expenses  home improvements  major purchase  medical bills  \\\n",
       "0                     0                  0               0              0   \n",
       "1                     0                  0               0              0   \n",
       "2                     0                  0               0              0   \n",
       "3                     0                  0               0              0   \n",
       "4                     0                  0               0              0   \n",
       "\n",
       "   moving  other  small business  take a trip  wedding  \n",
       "0       0      0               0            0        0  \n",
       "1       0      0               0            0        0  \n",
       "2       0      0               0            0        0  \n",
       "3       0      0               0            0        0  \n",
       "4       0      0               0            0        0  "
      ]
     },
     "execution_count": 112,
     "metadata": {},
     "output_type": "execute_result"
    }
   ],
   "source": [
    "dumm3=pd.get_dummies(df['Purpose'])\n",
    "dumm3.head()"
   ]
  },
  {
   "cell_type": "code",
   "execution_count": 117,
   "metadata": {},
   "outputs": [
    {
     "name": "stdout",
     "output_type": "stream",
     "text": [
      "<class 'pandas.core.frame.DataFrame'>\n",
      "RangeIndex: 7500 entries, 0 to 7499\n",
      "Data columns (total 42 columns):\n",
      "Annual Income                   7500 non-null float64\n",
      "Tax Liens                       7500 non-null float64\n",
      "Number of Open Accounts         7500 non-null float64\n",
      "Years of Credit History         7500 non-null float64\n",
      "Maximum Open Credit             7500 non-null float64\n",
      "Number of Credit Problems       7500 non-null float64\n",
      "Months since last delinquent    7500 non-null float64\n",
      "Bankruptcies                    7500 non-null float64\n",
      "Purpose                         7490 non-null object\n",
      "Term                            7500 non-null object\n",
      "Current Loan Amount             7500 non-null float64\n",
      "Current Credit Balance          7500 non-null float64\n",
      "Monthly Debt                    7500 non-null float64\n",
      "Credit Score                    7500 non-null float64\n",
      "Credit Default                  7500 non-null int64\n",
      "Years in current job<1          7500 non-null uint8\n",
      "Years in current job=1          7500 non-null uint8\n",
      "Years in current job=2          7500 non-null uint8\n",
      "Years in current job=3          7500 non-null uint8\n",
      "Years in current job=4          7500 non-null uint8\n",
      "Years in current job=5          7500 non-null uint8\n",
      "Years in current job=6          7500 non-null uint8\n",
      "Years in current job=7          7500 non-null uint8\n",
      "Years in current job=8          7500 non-null uint8\n",
      "Years in current job=9          7500 non-null uint8\n",
      "Years in current job>=10        7500 non-null uint8\n",
      "Home Mortgage                   7500 non-null uint8\n",
      "Own Home                        7500 non-null uint8\n",
      "Rent                            7500 non-null uint8\n",
      "business loan                   7500 non-null uint8\n",
      "buy a car                       7500 non-null uint8\n",
      "buy house                       7500 non-null uint8\n",
      "debt consolidation              7500 non-null uint8\n",
      "educational expenses            7500 non-null uint8\n",
      "home improvements               7500 non-null uint8\n",
      "major purchase                  7500 non-null uint8\n",
      "medical bills                   7500 non-null uint8\n",
      "moving                          7500 non-null uint8\n",
      "other                           7500 non-null uint8\n",
      "small business                  7500 non-null uint8\n",
      "take a trip                     7500 non-null uint8\n",
      "wedding                         7500 non-null uint8\n",
      "dtypes: float64(12), int64(1), object(2), uint8(27)\n",
      "memory usage: 1.1+ MB\n"
     ]
    }
   ],
   "source": [
    "df2 = pd.concat([df, dumm3], axis=1, join='inner')\n",
    "df2.info()"
   ]
  },
  {
   "cell_type": "code",
   "execution_count": 114,
   "metadata": {},
   "outputs": [
    {
     "data": {
      "text/plain": [
       "Index(['business loan', 'buy a car', 'buy house', 'debt consolidation',\n",
       "       'educational expenses', 'home improvements', 'major purchase',\n",
       "       'medical bills', 'moving', 'other', 'small business', 'take a trip',\n",
       "       'wedding'],\n",
       "      dtype='object')"
      ]
     },
     "execution_count": 114,
     "metadata": {},
     "output_type": "execute_result"
    }
   ],
   "source": [
    "colnames = dumm3.columns\n",
    "colnames"
   ]
  },
  {
   "cell_type": "code",
   "execution_count": 120,
   "metadata": {},
   "outputs": [
    {
     "data": {
      "text/plain": [
       "Index(['Annual Income', 'Tax Liens', 'Number of Open Accounts',\n",
       "       'Years of Credit History', 'Maximum Open Credit',\n",
       "       'Number of Credit Problems', 'Months since last delinquent',\n",
       "       'Bankruptcies', 'Purpose', 'Term', 'Current Loan Amount',\n",
       "       'Current Credit Balance', 'Monthly Debt', 'Credit Score',\n",
       "       'Credit Default', 'Years in current job<1', 'Years in current job=1',\n",
       "       'Years in current job=2', 'Years in current job=3',\n",
       "       'Years in current job=4', 'Years in current job=5',\n",
       "       'Years in current job=6', 'Years in current job=7',\n",
       "       'Years in current job=8', 'Years in current job=9',\n",
       "       'Years in current job>=10', 'Home Mortgage', 'Own Home', 'Rent',\n",
       "       'Purpose: business loan', 'Purpose: buy a car', 'Purpose: buy house',\n",
       "       'Purpose: debt consolidation', 'Purpose: educational expenses',\n",
       "       'Purpose: home improvements', 'Purpose: major purchase',\n",
       "       'Purpose: medical bills', 'Purpose: moving', 'Purpose: other',\n",
       "       'Purpose: small business', 'Purpose: take a trip', 'Purpose: wedding'],\n",
       "      dtype='object')"
      ]
     },
     "execution_count": 120,
     "metadata": {},
     "output_type": "execute_result"
    }
   ],
   "source": [
    "strn = 'Purpose: '\n",
    "for name in colnames:\n",
    "    n2 = name\n",
    "    newn = strn + n2\n",
    "    #print(newn)\n",
    "    df2.rename(columns={name: newn}, inplace=True)\n",
    "    \n",
    "df2.columns"
   ]
  },
  {
   "cell_type": "code",
   "execution_count": 121,
   "metadata": {},
   "outputs": [],
   "source": [
    "df2 = df2.drop(['Purpose'], axis=1)"
   ]
  },
  {
   "cell_type": "markdown",
   "metadata": {},
   "source": [
    "Посмотрим на целевую переменную \"Credit Default\""
   ]
  },
  {
   "cell_type": "code",
   "execution_count": 127,
   "metadata": {},
   "outputs": [
    {
     "data": {
      "text/plain": [
       "0    5387\n",
       "1    2113\n",
       "Name: Credit Default, dtype: int64"
      ]
     },
     "execution_count": 127,
     "metadata": {},
     "output_type": "execute_result"
    }
   ],
   "source": [
    "df2['Credit Default'].value_counts()"
   ]
  },
  {
   "cell_type": "code",
   "execution_count": 128,
   "metadata": {},
   "outputs": [
    {
     "data": {
      "image/png": "[encoded data removed]",
      "text/plain": [
       "<Figure size 576x360 with 1 Axes>"
      ]
     },
     "metadata": {
      "needs_background": "light"
     },
     "output_type": "display_data"
    }
   ],
   "source": [
    "plt.figure(figsize=(8, 5))\n",
    "\n",
    "sns.countplot(x='Credit Default', data=df2)\n",
    "\n",
    "plt.title('Target variable distribution')\n",
    "plt.show()"
   ]
  },
  {
   "cell_type": "markdown",
   "metadata": {},
   "source": [
    "Видим, что около 1/3 от общего числа клиентов не расплатились с банком.\n",
    "\n",
    "Разделим целевую переменную и остальные признаки:"
   ]
  },
  {
   "cell_type": "code",
   "execution_count": 129,
   "metadata": {
    "scrolled": true
   },
   "outputs": [
    {
     "data": {
      "text/html": [
       "<div>\n",
       "<style scoped>\n",
       "    .dataframe tbody tr th:only-of-type {\n",
       "        vertical-align: middle;\n",
       "    }\n",
       "\n",
       "    .dataframe tbody tr th {\n",
       "        vertical-align: top;\n",
       "    }\n",
       "\n",
       "    .dataframe thead th {\n",
       "        text-align: right;\n",
       "    }\n",
       "</style>\n",
       "<table border=\"1\" class=\"dataframe\">\n",
       "  <thead>\n",
       "    <tr style=\"text-align: right;\">\n",
       "      <th></th>\n",
       "      <th>Annual Income</th>\n",
       "      <th>Tax Liens</th>\n",
       "      <th>Number of Open Accounts</th>\n",
       "      <th>Years of Credit History</th>\n",
       "      <th>Maximum Open Credit</th>\n",
       "      <th>Number of Credit Problems</th>\n",
       "      <th>Months since last delinquent</th>\n",
       "      <th>Bankruptcies</th>\n",
       "      <th>Term</th>\n",
       "      <th>Current Loan Amount</th>\n",
       "      <th>...</th>\n",
       "      <th>Purpose: debt consolidation</th>\n",
       "      <th>Purpose: educational expenses</th>\n",
       "      <th>Purpose: home improvements</th>\n",
       "      <th>Purpose: major purchase</th>\n",
       "      <th>Purpose: medical bills</th>\n",
       "      <th>Purpose: moving</th>\n",
       "      <th>Purpose: other</th>\n",
       "      <th>Purpose: small business</th>\n",
       "      <th>Purpose: take a trip</th>\n",
       "      <th>Purpose: wedding</th>\n",
       "    </tr>\n",
       "  </thead>\n",
       "  <tbody>\n",
       "    <tr>\n",
       "      <th>0</th>\n",
       "      <td>482087.0</td>\n",
       "      <td>0.0</td>\n",
       "      <td>11.0</td>\n",
       "      <td>26.3</td>\n",
       "      <td>685960.0</td>\n",
       "      <td>1.0</td>\n",
       "      <td>34.6926</td>\n",
       "      <td>1.0</td>\n",
       "      <td>Short Term</td>\n",
       "      <td>99999999.0</td>\n",
       "      <td>...</td>\n",
       "      <td>1</td>\n",
       "      <td>0</td>\n",
       "      <td>0</td>\n",
       "      <td>0</td>\n",
       "      <td>0</td>\n",
       "      <td>0</td>\n",
       "      <td>0</td>\n",
       "      <td>0</td>\n",
       "      <td>0</td>\n",
       "      <td>0</td>\n",
       "    </tr>\n",
       "    <tr>\n",
       "      <th>1</th>\n",
       "      <td>1025487.0</td>\n",
       "      <td>0.0</td>\n",
       "      <td>15.0</td>\n",
       "      <td>15.3</td>\n",
       "      <td>1181730.0</td>\n",
       "      <td>0.0</td>\n",
       "      <td>34.6926</td>\n",
       "      <td>0.0</td>\n",
       "      <td>Long Term</td>\n",
       "      <td>264968.0</td>\n",
       "      <td>...</td>\n",
       "      <td>1</td>\n",
       "      <td>0</td>\n",
       "      <td>0</td>\n",
       "      <td>0</td>\n",
       "      <td>0</td>\n",
       "      <td>0</td>\n",
       "      <td>0</td>\n",
       "      <td>0</td>\n",
       "      <td>0</td>\n",
       "      <td>0</td>\n",
       "    </tr>\n",
       "    <tr>\n",
       "      <th>2</th>\n",
       "      <td>751412.0</td>\n",
       "      <td>0.0</td>\n",
       "      <td>11.0</td>\n",
       "      <td>35.0</td>\n",
       "      <td>1182434.0</td>\n",
       "      <td>0.0</td>\n",
       "      <td>34.6926</td>\n",
       "      <td>0.0</td>\n",
       "      <td>Short Term</td>\n",
       "      <td>99999999.0</td>\n",
       "      <td>...</td>\n",
       "      <td>1</td>\n",
       "      <td>0</td>\n",
       "      <td>0</td>\n",
       "      <td>0</td>\n",
       "      <td>0</td>\n",
       "      <td>0</td>\n",
       "      <td>0</td>\n",
       "      <td>0</td>\n",
       "      <td>0</td>\n",
       "      <td>0</td>\n",
       "    </tr>\n",
       "    <tr>\n",
       "      <th>3</th>\n",
       "      <td>805068.0</td>\n",
       "      <td>0.0</td>\n",
       "      <td>8.0</td>\n",
       "      <td>22.5</td>\n",
       "      <td>147400.0</td>\n",
       "      <td>1.0</td>\n",
       "      <td>34.6926</td>\n",
       "      <td>1.0</td>\n",
       "      <td>Short Term</td>\n",
       "      <td>121396.0</td>\n",
       "      <td>...</td>\n",
       "      <td>1</td>\n",
       "      <td>0</td>\n",
       "      <td>0</td>\n",
       "      <td>0</td>\n",
       "      <td>0</td>\n",
       "      <td>0</td>\n",
       "      <td>0</td>\n",
       "      <td>0</td>\n",
       "      <td>0</td>\n",
       "      <td>0</td>\n",
       "    </tr>\n",
       "    <tr>\n",
       "      <th>4</th>\n",
       "      <td>776264.0</td>\n",
       "      <td>0.0</td>\n",
       "      <td>13.0</td>\n",
       "      <td>13.6</td>\n",
       "      <td>385836.0</td>\n",
       "      <td>1.0</td>\n",
       "      <td>34.6926</td>\n",
       "      <td>0.0</td>\n",
       "      <td>Short Term</td>\n",
       "      <td>125840.0</td>\n",
       "      <td>...</td>\n",
       "      <td>1</td>\n",
       "      <td>0</td>\n",
       "      <td>0</td>\n",
       "      <td>0</td>\n",
       "      <td>0</td>\n",
       "      <td>0</td>\n",
       "      <td>0</td>\n",
       "      <td>0</td>\n",
       "      <td>0</td>\n",
       "      <td>0</td>\n",
       "    </tr>\n",
       "  </tbody>\n",
       "</table>\n",
       "<p>5 rows × 40 columns</p>\n",
       "</div>"
      ],
      "text/plain": [
       "   Annual Income  Tax Liens  Number of Open Accounts  Years of Credit History  \\\n",
       "0       482087.0        0.0                     11.0                     26.3   \n",
       "1      1025487.0        0.0                     15.0                     15.3   \n",
       "2       751412.0        0.0                     11.0                     35.0   \n",
       "3       805068.0        0.0                      8.0                     22.5   \n",
       "4       776264.0        0.0                     13.0                     13.6   \n",
       "\n",
       "   Maximum Open Credit  Number of Credit Problems  \\\n",
       "0             685960.0                        1.0   \n",
       "1            1181730.0                        0.0   \n",
       "2            1182434.0                        0.0   \n",
       "3             147400.0                        1.0   \n",
       "4             385836.0                        1.0   \n",
       "\n",
       "   Months since last delinquent  Bankruptcies        Term  \\\n",
       "0                       34.6926           1.0  Short Term   \n",
       "1                       34.6926           0.0   Long Term   \n",
       "2                       34.6926           0.0  Short Term   \n",
       "3                       34.6926           1.0  Short Term   \n",
       "4                       34.6926           0.0  Short Term   \n",
       "\n",
       "   Current Loan Amount        ...         Purpose: debt consolidation  \\\n",
       "0           99999999.0        ...                                   1   \n",
       "1             264968.0        ...                                   1   \n",
       "2           99999999.0        ...                                   1   \n",
       "3             121396.0        ...                                   1   \n",
       "4             125840.0        ...                                   1   \n",
       "\n",
       "   Purpose: educational expenses  Purpose: home improvements  \\\n",
       "0                              0                           0   \n",
       "1                              0                           0   \n",
       "2                              0                           0   \n",
       "3                              0                           0   \n",
       "4                              0                           0   \n",
       "\n",
       "   Purpose: major purchase  Purpose: medical bills  Purpose: moving  \\\n",
       "0                        0                       0                0   \n",
       "1                        0                       0                0   \n",
       "2                        0                       0                0   \n",
       "3                        0                       0                0   \n",
       "4                        0                       0                0   \n",
       "\n",
       "   Purpose: other  Purpose: small business  Purpose: take a trip  \\\n",
       "0               0                        0                     0   \n",
       "1               0                        0                     0   \n",
       "2               0                        0                     0   \n",
       "3               0                        0                     0   \n",
       "4               0                        0                     0   \n",
       "\n",
       "   Purpose: wedding  \n",
       "0                 0  \n",
       "1                 0  \n",
       "2                 0  \n",
       "3                 0  \n",
       "4                 0  \n",
       "\n",
       "[5 rows x 40 columns]"
      ]
     },
     "execution_count": 129,
     "metadata": {},
     "output_type": "execute_result"
    }
   ],
   "source": [
    "target = df2['Credit Default']\n",
    "features = df2.drop(['Credit Default'], axis=1)\n",
    "features.head()"
   ]
  },
  {
   "cell_type": "markdown",
   "metadata": {},
   "source": [
    "Посмотрим на взаимосвязь признаков и целевой переменной:"
   ]
  },
  {
   "cell_type": "code",
   "execution_count": 130,
   "metadata": {
    "scrolled": true
   },
   "outputs": [
    {
     "data": {
      "text/plain": [
       "['Annual Income',\n",
       " 'Tax Liens',\n",
       " 'Number of Open Accounts',\n",
       " 'Years of Credit History',\n",
       " 'Maximum Open Credit',\n",
       " 'Number of Credit Problems',\n",
       " 'Months since last delinquent',\n",
       " 'Bankruptcies',\n",
       " 'Term',\n",
       " 'Current Loan Amount',\n",
       " 'Current Credit Balance',\n",
       " 'Monthly Debt',\n",
       " 'Credit Score',\n",
       " 'Credit Default',\n",
       " 'Years in current job<1',\n",
       " 'Years in current job=1',\n",
       " 'Years in current job=2',\n",
       " 'Years in current job=3',\n",
       " 'Years in current job=4',\n",
       " 'Years in current job=5',\n",
       " 'Years in current job=6',\n",
       " 'Years in current job=7',\n",
       " 'Years in current job=8',\n",
       " 'Years in current job=9',\n",
       " 'Years in current job>=10',\n",
       " 'Home Mortgage',\n",
       " 'Own Home',\n",
       " 'Rent',\n",
       " 'Purpose: business loan',\n",
       " 'Purpose: buy a car',\n",
       " 'Purpose: buy house',\n",
       " 'Purpose: debt consolidation',\n",
       " 'Purpose: educational expenses',\n",
       " 'Purpose: home improvements',\n",
       " 'Purpose: major purchase',\n",
       " 'Purpose: medical bills',\n",
       " 'Purpose: moving',\n",
       " 'Purpose: other',\n",
       " 'Purpose: small business',\n",
       " 'Purpose: take a trip',\n",
       " 'Purpose: wedding']"
      ]
     },
     "execution_count": 130,
     "metadata": {},
     "output_type": "execute_result"
    }
   ],
   "source": [
    "cols = list(df2.columns.values)\n",
    "cols"
   ]
  },
  {
   "cell_type": "code",
   "execution_count": 131,
   "metadata": {
    "scrolled": false
   },
   "outputs": [
    {
     "data": {
      "text/plain": [
       "Index(['Annual Income', 'Tax Liens', 'Number of Open Accounts',\n",
       "       'Years of Credit History', 'Maximum Open Credit',\n",
       "       'Number of Credit Problems', 'Months since last delinquent',\n",
       "       'Bankruptcies', 'Term', 'Current Loan Amount', 'Current Credit Balance',\n",
       "       'Monthly Debt', 'Credit Score', 'Years in current job<1',\n",
       "       'Years in current job=1', 'Years in current job=2',\n",
       "       'Years in current job=3', 'Years in current job=4',\n",
       "       'Years in current job=5', 'Years in current job=6',\n",
       "       'Years in current job=7', 'Years in current job=8',\n",
       "       'Years in current job=9', 'Years in current job>=10', 'Home Mortgage',\n",
       "       'Own Home', 'Rent', 'Purpose: business loan', 'Purpose: buy a car',\n",
       "       'Purpose: buy house', 'Purpose: debt consolidation',\n",
       "       'Purpose: educational expenses', 'Purpose: home improvements',\n",
       "       'Purpose: major purchase', 'Purpose: medical bills', 'Purpose: moving',\n",
       "       'Purpose: other', 'Purpose: small business', 'Purpose: take a trip',\n",
       "       'Purpose: wedding', 'Credit Default'],\n",
       "      dtype='object')"
      ]
     },
     "execution_count": 131,
     "metadata": {},
     "output_type": "execute_result"
    }
   ],
   "source": [
    "new_cols = ['Annual Income', 'Tax Liens', 'Number of Open Accounts', 'Years of Credit History', 'Maximum Open Credit',\n",
    " 'Number of Credit Problems', 'Months since last delinquent', 'Bankruptcies', 'Term', 'Current Loan Amount', 'Current Credit Balance',\n",
    " 'Monthly Debt', 'Credit Score', 'Years in current job<1', 'Years in current job=1', 'Years in current job=2',\n",
    " 'Years in current job=3', 'Years in current job=4', 'Years in current job=5', 'Years in current job=6', 'Years in current job=7',\n",
    " 'Years in current job=8', 'Years in current job=9', 'Years in current job>=10', 'Home Mortgage', 'Own Home',\n",
    " 'Rent', 'Purpose: business loan', 'Purpose: buy a car', 'Purpose: buy house', 'Purpose: debt consolidation',\n",
    " 'Purpose: educational expenses', 'Purpose: home improvements', 'Purpose: major purchase', 'Purpose: medical bills', 'Purpose: moving',\n",
    " 'Purpose: other', 'Purpose: small business', 'Purpose: take a trip', 'Purpose: wedding', 'Credit Default']\n",
    "df2 = df2[new_cols]\n",
    "df2.columns"
   ]
  },
  {
   "cell_type": "code",
   "execution_count": 132,
   "metadata": {
    "scrolled": false
   },
   "outputs": [
    {
     "data": {
      "image/png": "[encoded data removed]",
      "text/plain": [
       "<Figure size 720x576 with 1 Axes>"
      ]
     },
     "metadata": {
      "needs_background": "light"
     },
     "output_type": "display_data"
    }
   ],
   "source": [
    "corrT= df2.corr().iloc[:-1, -1].sort_values(ascending=False)\n",
    "plt.figure(figsize=(10, 8))\n",
    "\n",
    "sns.barplot(x=corrT, y=corrT.index)\n",
    "\n",
    "plt.title('Correlation with target variable')\n",
    "plt.show()"
   ]
  },
  {
   "cell_type": "markdown",
   "metadata": {},
   "source": [
    "Так как нас интересует полная выплата кредита, то будем считать за положительную переменную credit default = 0, а за отрицательную (невыплата кредита) - credit default = 1. Исходя из значений корреляции, посчитанной выше, видим, что с целевой переменной положительно взаимосвязана текущая сумма кредита (вероятно, чем меньше оставшая ся сумма, тем больше вероятность, что кредит будет выплачен до конца?), ежемесячный доход, ипотека на дом. Далее, корреляция целевой пееменной с признаками идет на спад. \n",
    "\n",
    "Интересно, что, практически, не влияют на целевую переменную 2 признака - количество лет на текущей работе = 1 и < 1. Возможно, в данном случае, данных с таким сроком работы слишком мало для оказания какого бы то ни было эффекта? \n",
    "\n",
    "Еще один любопытный факт относится к отрицательному влиянию кредитного скоринга и наличия аренды жилья. Любопытно, что и наличие собственного дома также отрицательно коррелирует с возможностью кредитного дефолта, хотя и на малый процент. То есть, в целом, человек с ипотекой на жилье имеет больше веса по выплате кредита, чем человек, уже имеющий свой дом. Странно.\n",
    "\n",
    "Любопытные закономерности прослеживаются и по части целей, с которыми были взяты кредиты. Так, бизнес-кредиты и кредиты, взятые под малый бизнес имеют небольшую кореляцию с вероятностью не выплатить деньги банку, в то время как кредиты на выплату долгов и оплату образованию имеют кореляциюнную зависимость с успешной выплатой кредита."
   ]
  },
  {
   "cell_type": "markdown",
   "metadata": {},
   "source": [
    "Посмотрим, как распределена переменная Credit Score"
   ]
  },
  {
   "cell_type": "code",
   "execution_count": 133,
   "metadata": {},
   "outputs": [
    {
     "data": {
      "text/plain": [
       "1151.087498    1557\n",
       "740.000000      169\n",
       "747.000000      168\n",
       "748.000000      157\n",
       "745.000000      152\n",
       "742.000000      151\n",
       "741.000000      151\n",
       "743.000000      148\n",
       "746.000000      145\n",
       "739.000000      144\n",
       "738.000000      137\n",
       "744.000000      135\n",
       "737.000000      134\n",
       "732.000000      124\n",
       "736.000000      113\n",
       "734.000000      112\n",
       "733.000000      101\n",
       "728.000000      100\n",
       "730.000000       98\n",
       "735.000000       96\n",
       "750.000000       94\n",
       "731.000000       94\n",
       "729.000000       87\n",
       "725.000000       86\n",
       "721.000000       86\n",
       "723.000000       82\n",
       "727.000000       80\n",
       "722.000000       76\n",
       "720.000000       75\n",
       "724.000000       74\n",
       "               ... \n",
       "588.000000        1\n",
       "6410.000000       1\n",
       "6610.000000       1\n",
       "6270.000000       1\n",
       "6910.000000       1\n",
       "6790.000000       1\n",
       "591.000000        1\n",
       "6480.000000       1\n",
       "610.000000        1\n",
       "6570.000000       1\n",
       "6880.000000       1\n",
       "6770.000000       1\n",
       "630.000000        1\n",
       "6830.000000       1\n",
       "599.000000        1\n",
       "607.000000        1\n",
       "6490.000000       1\n",
       "6160.000000       1\n",
       "6820.000000       1\n",
       "6680.000000       1\n",
       "619.000000        1\n",
       "6750.000000       1\n",
       "6210.000000       1\n",
       "589.000000        1\n",
       "631.000000        1\n",
       "602.000000        1\n",
       "616.000000        1\n",
       "585.000000        1\n",
       "620.000000        1\n",
       "7010.000000       1\n",
       "Name: Credit Score, Length: 269, dtype: int64"
      ]
     },
     "execution_count": 133,
     "metadata": {},
     "output_type": "execute_result"
    }
   ],
   "source": [
    "df[\"Credit Score\"].value_counts()"
   ]
  },
  {
   "cell_type": "markdown",
   "metadata": {},
   "source": [
    "Интересно, что эта переменная - вещественная, но тип у нее int66 и, плюс ко всему, она содержит аж 1557 одинаковых значений."
   ]
  },
  {
   "cell_type": "code",
   "execution_count": 135,
   "metadata": {},
   "outputs": [
    {
     "data": {
      "image/png": "[encoded data removed]",
      "text/plain": [
       "<Figure size 432x288 with 1 Axes>"
      ]
     },
     "metadata": {
      "needs_background": "light"
     },
     "output_type": "display_data"
    }
   ],
   "source": [
    "plt.figure(figsize=(6, 4))\n",
    "\n",
    "sns.distplot(df[\"Credit Score\"], kde=False, rug=False, bins=25)\n",
    "plt.title('Credit Score grouped by target variable')\n",
    "#plt.legend(title='Credit Default', loc='upper right')\n",
    "\n",
    "plt.show()"
   ]
  },
  {
   "cell_type": "markdown",
   "metadata": {},
   "source": [
    "На гистограмме видим, что значения распределились на 3 группы: до 1000, до 1500 и в районе 6500 - 7500 тысяч. Вторая группа, вероятно, та самая, которая содержит 1557 одинаковых значений. Может быть, имеет смысл разделить эти значения по категориям?"
   ]
  },
  {
   "cell_type": "markdown",
   "metadata": {},
   "source": [
    "Посмотрим на переменную Rent:"
   ]
  },
  {
   "cell_type": "code",
   "execution_count": 136,
   "metadata": {},
   "outputs": [
    {
     "data": {
      "text/plain": [
       "0    4296\n",
       "1    3204\n",
       "Name: Rent, dtype: int64"
      ]
     },
     "execution_count": 136,
     "metadata": {},
     "output_type": "execute_result"
    }
   ],
   "source": [
    "df['Rent'].value_counts()"
   ]
  },
  {
   "cell_type": "code",
   "execution_count": null,
   "metadata": {},
   "outputs": [],
   "source": []
  }
 ],
 "metadata": {
  "kernelspec": {
   "display_name": "Python 3",
   "language": "python",
   "name": "python3"
  },
  "language_info": {
   "codemirror_mode": {
    "name": "ipython",
    "version": 3
   },
   "file_extension": ".py",
   "mimetype": "text/x-python",
   "name": "python",
   "nbconvert_exporter": "python",
   "pygments_lexer": "ipython3",
   "version": "3.7.1"
  }
 },
 "nbformat": 4,
 "nbformat_minor": 2
}
